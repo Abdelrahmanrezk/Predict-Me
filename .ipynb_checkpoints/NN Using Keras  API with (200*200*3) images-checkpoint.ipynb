{
 "cells": [
  {
   "cell_type": "markdown",
   "id": "a21e23af",
   "metadata": {},
   "source": [
    "# CHAPTER 10\n",
    "\n",
    "Introduction to Articial Neural Networks with Keras\n",
    "\n",
    "- Building an Image Classier Using the Sequential API\n",
    "- Compiling the Model\n",
    "- Training and Evaluating the Model\n",
    "- Building Complex Models Using the Functional API\n",
    "    - One input\n",
    "    - Multi input\n"
   ]
  },
  {
   "cell_type": "code",
   "execution_count": 1,
   "id": "bac25b90",
   "metadata": {},
   "outputs": [],
   "source": [
    "import numpy as np\n",
    "import pandas as pd\n",
    "from PIL import Image\n",
    "import matplotlib.pyplot as plt\n",
    "import warnings\n",
    "import os\n",
    "import cv2\n",
    "import sys\n",
    "import matplotlib.image as mpimg\n",
    "from PIL import Image\n",
    "import scipy\n",
    "from scipy import ndimage\n",
    "from scipy.stats import reciprocal\n",
    "import io\n",
    "import uvicorn\n",
    "import numpy as np\n",
    "import nest_asyncio\n",
    "from enum import Enum\n",
    "from fastapi import FastAPI, UploadFile, File, HTTPException\n",
    "from fastapi.responses import StreamingResponse\n",
    "import time\n",
    "import pickle\n",
    "from sklearn.ensemble import RandomForestClassifier, VotingClassifier\n",
    "from sklearn.ensemble import GradientBoostingClassifier\n",
    "from sklearn.metrics import f1_score, confusion_matrix\n",
    "from sklearn.linear_model import LogisticRegression\n",
    "from sklearn.ensemble import RandomForestClassifier\n",
    "from sklearn.ensemble import ExtraTreesClassifier\n",
    "from sklearn.model_selection import GridSearchCV, RandomizedSearchCV\n",
    "from sklearn.ensemble import AdaBoostClassifier\n",
    "from sklearn.model_selection import train_test_split\n",
    "from sklearn.tree import DecisionTreeClassifier\n",
    "from sklearn.ensemble import BaggingClassifier\n",
    "\n",
    "# Keras APIs\n",
    "from keras.preprocessing.sequence import pad_sequences\n",
    "from keras.preprocessing.text import Tokenizer\n",
    "from keras.layers.embeddings import Embedding\n",
    "from keras.models import Sequential\n",
    "from keras.layers import Flatten\n",
    "from keras.layers import Dense\n",
    "from keras import models\n",
    "from tensorflow import keras\n",
    "import tensorflow as tf\n",
    "\n",
    "from configs import *\n",
    "from keras_sequential_model import *\n",
    "from keras_functional_model import *\n",
    "warnings.filterwarnings('ignore')\n",
    "%matplotlib inline\n"
   ]
  },
  {
   "cell_type": "code",
   "execution_count": null,
   "id": "78062080",
   "metadata": {},
   "outputs": [],
   "source": [
    "df_all_images = images_pipeline(200, \"_200_200_3/\")\n",
    "X_train, X_val, y_train, y_val = load_train_validation_set(df_all_images)\n",
    "display_some_images(X_train, 200)"
   ]
  },
  {
   "cell_type": "code",
   "execution_count": null,
   "id": "6b5252df",
   "metadata": {},
   "outputs": [],
   "source": [
    "X_train, X_val, y_train, y_val = X_train.T, X_val.T, y_train.T, y_val.T\n",
    "X_val, X_test, y_val, y_test = train_test_split(X_val, y_val, test_size=0.3)"
   ]
  },
  {
   "cell_type": "code",
   "execution_count": null,
   "id": "bab1c1a5",
   "metadata": {},
   "outputs": [],
   "source": [
    "def build_model(n_hidden=1, n_neurons=30, learning_rate=3e-3, input_shape=[X_train.shape[1]]):\n",
    "    '''\n",
    "    The function used to help us searching for best hyper paramters using sklearn along with keras.\n",
    "    other optional parameters we can pass like metrics.\n",
    "\n",
    "    Argument:\n",
    "        n_hidden      : How many hidden layers we need\n",
    "        n_neurons     : For each hidden layer which number of neurons we need (fixed number for all hidden layers)\n",
    "        learning_rate : How to control the steps the model take during training\n",
    "        input_shape   : The number of features we have defined by the image (width * height * 3 for rgb)\n",
    "    \n",
    "    return:\n",
    "        model: The architecture of the model we have built and compiled \n",
    "    '''\n",
    "        \n",
    "     # Create the Sequential model\n",
    "    model = keras.models.Sequential()\n",
    "     # define the shape of the input layer from the features we have for each image\n",
    "    model.add(keras.layers.InputLayer(input_shape=input_shape))\n",
    "    \n",
    "     # loop over hidden layers\n",
    "    for i in range(n_hidden):\n",
    "        \n",
    "        # for each hidden layer pass the number of neurons for this layer\n",
    "        model.add(keras.layers.Dense(n_neurons, activation='relu'))\n",
    "        \n",
    "    # at the end handle the output layer as we just need to predict image belong to me or not so its just one unit\n",
    "    model.add(keras.layers.Dense(1, activation='sigmoid'))\n",
    "    \n",
    "    model.compile(loss=keras.losses.BinaryCrossentropy(),\n",
    "                  optimizer=keras.optimizers.SGD(lr=learning_rate), metrics=['acc'])\n",
    "    return model"
   ]
  },
  {
   "cell_type": "markdown",
   "id": "c9054a51",
   "metadata": {},
   "source": [
    "## First Search"
   ]
  },
  {
   "cell_type": "code",
   "execution_count": null,
   "id": "a48b25b0",
   "metadata": {},
   "outputs": [],
   "source": [
    "param_distribs = {\n",
    "     \"n_hidden\": [1, 2, 3, 4],\n",
    "     \"n_neurons\": np.arange(1, 100),\n",
    "     \"learning_rate\": reciprocal(3e-3, 2e0), # 3e-3 is 0.003 and 2e0 means 2.0\n",
    "}\n",
    "\n",
    "n_iter=1\n",
    "rnd_search_cv = random_search(param_distribs, build_model, n_iter, X_train, y_train, X_val, y_val)\n",
    "\n"
   ]
  },
  {
   "cell_type": "code",
   "execution_count": null,
   "id": "f68a40d6",
   "metadata": {},
   "outputs": [],
   "source": [
    "rnd_search_cv.best_params_"
   ]
  },
  {
   "cell_type": "code",
   "execution_count": null,
   "id": "1ae510d0",
   "metadata": {},
   "outputs": [],
   "source": [
    "model, history, model_hyper_params = train_sequential_model_with_best_params(rnd_search_cv, X_train, y_train,\n",
    "                                                                             X_val, y_val, \"img_size_300*300*3_\")"
   ]
  },
  {
   "cell_type": "code",
   "execution_count": null,
   "id": "736f7a48",
   "metadata": {},
   "outputs": [],
   "source": [
    "model = save_model_best_weights(model, model_hyper_params)"
   ]
  },
  {
   "cell_type": "code",
   "execution_count": null,
   "id": "2200cfb4",
   "metadata": {},
   "outputs": [],
   "source": [
    "model.evaluate(X_val, y_val)"
   ]
  },
  {
   "cell_type": "code",
   "execution_count": null,
   "id": "199f5d61",
   "metadata": {},
   "outputs": [],
   "source": [
    "pd.DataFrame(history.history).plot(figsize=(8, 5))\n",
    "plt.grid(True)\n",
    "plt.gca().set_ylim(0, 1) \n",
    "plt.show()"
   ]
  },
  {
   "cell_type": "code",
   "execution_count": null,
   "id": "a540fb31",
   "metadata": {},
   "outputs": [],
   "source": [
    "model, history, model_hyper_params = train_functional_model_with_best_params(rnd_search_cv, X_train, y_train, \n",
    "             X_val, y_val, \"one_input_functional_api\",  img_size=\"img_size_300*300*3_\")"
   ]
  },
  {
   "cell_type": "code",
   "execution_count": null,
   "id": "4606919a",
   "metadata": {},
   "outputs": [],
   "source": [
    "model = save_model_best_weights(model, model_hyper_params)"
   ]
  },
  {
   "cell_type": "code",
   "execution_count": null,
   "id": "65a60b64",
   "metadata": {},
   "outputs": [],
   "source": [
    "model.evaluate(X_val, y_val)"
   ]
  },
  {
   "cell_type": "code",
   "execution_count": null,
   "id": "b5b5bbf9",
   "metadata": {},
   "outputs": [],
   "source": [
    "pd.DataFrame(history.history).plot(figsize=(8, 5))\n",
    "plt.grid(True)\n",
    "plt.gca().set_ylim(0, 1) \n",
    "plt.show()"
   ]
  },
  {
   "cell_type": "code",
   "execution_count": null,
   "id": "91f29dbe",
   "metadata": {},
   "outputs": [],
   "source": [
    "model, history, model_hyper_params = train_functional_model_with_best_params(rnd_search_cv, X_train, y_train, \n",
    "             X_val, y_val, \"multi_input_functional_api\",  img_size=\"img_size_300*300*3_\")"
   ]
  },
  {
   "cell_type": "code",
   "execution_count": null,
   "id": "b61cd23b",
   "metadata": {},
   "outputs": [],
   "source": [
    "input_shape_A   = int(X_train.shape[1] / 3) \n",
    "X_val_A, X_val_B     = X_val[:, :input_shape_A], X_val\n",
    "model.evaluate((X_val_A, X_val_B), y_val)"
   ]
  },
  {
   "cell_type": "code",
   "execution_count": null,
   "id": "12d650ed",
   "metadata": {},
   "outputs": [],
   "source": [
    "pd.DataFrame(history.history).plot(figsize=(8, 5))\n",
    "plt.grid(True)\n",
    "plt.gca().set_ylim(0, 1) \n",
    "plt.show()"
   ]
  },
  {
   "cell_type": "code",
   "execution_count": null,
   "id": "070e5a26",
   "metadata": {},
   "outputs": [],
   "source": []
  }
 ],
 "metadata": {
  "kernelspec": {
   "display_name": "Python 3",
   "language": "python",
   "name": "python3"
  },
  "language_info": {
   "codemirror_mode": {
    "name": "ipython",
    "version": 3
   },
   "file_extension": ".py",
   "mimetype": "text/x-python",
   "name": "python",
   "nbconvert_exporter": "python",
   "pygments_lexer": "ipython3",
   "version": "3.6.9"
  }
 },
 "nbformat": 4,
 "nbformat_minor": 5
}
