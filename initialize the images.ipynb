{
 "cells": [
  {
   "cell_type": "code",
   "execution_count": 1,
   "id": "156619cb",
   "metadata": {},
   "outputs": [],
   "source": [
    "import numpy as np\n",
    "import pandas as pd\n",
    "from PIL import Image\n",
    "import matplotlib.pyplot as plt\n",
    "import warnings\n",
    "import os\n",
    "import cv2\n",
    "import sys\n",
    "import matplotlib.image as mpimg\n",
    "from PIL import Image\n",
    "import scipy\n",
    "from scipy import ndimage\n",
    "import io\n",
    "import uvicorn\n",
    "import numpy as np\n",
    "\n",
    "import pickle\n",
    "\n",
    "from configs import *\n",
    "warnings.filterwarnings('ignore')\n",
    "%matplotlib inline\n"
   ]
  },
  {
   "cell_type": "code",
   "execution_count": null,
   "id": "97b45e4c",
   "metadata": {},
   "outputs": [],
   "source": [
    "read_mixed_width_and_height_images() # save as 100 * 100 * 3 images"
   ]
  },
  {
   "cell_type": "code",
   "execution_count": null,
   "id": "7eb83542",
   "metadata": {},
   "outputs": [],
   "source": [
    "read_mixed_width_and_height_images(300, \"_300_300_3/\") # save as 300 * 300 * 3 images"
   ]
  },
  {
   "cell_type": "code",
   "execution_count": null,
   "id": "e30a2d61",
   "metadata": {},
   "outputs": [],
   "source": [
    "read_mixed_width_and_height_images(500, \"_500_500_3/\") # save as 300 * 300 * 3 images"
   ]
  }
 ],
 "metadata": {
  "kernelspec": {
   "display_name": "Python 3",
   "language": "python",
   "name": "python3"
  },
  "language_info": {
   "codemirror_mode": {
    "name": "ipython",
    "version": 3
   },
   "file_extension": ".py",
   "mimetype": "text/x-python",
   "name": "python",
   "nbconvert_exporter": "python",
   "pygments_lexer": "ipython3",
   "version": "3.6.9"
  }
 },
 "nbformat": 4,
 "nbformat_minor": 5
}
